{
 "cells": [
  {
   "cell_type": "code",
   "execution_count": 1,
   "metadata": {},
   "outputs": [],
   "source": [
    "import nltk\n",
    "from nltk.stem import PorterStemmer\n",
    "from nltk.corpus import stopwords"
   ]
  },
  {
   "cell_type": "code",
   "execution_count": 2,
   "metadata": {},
   "outputs": [],
   "source": [
    "para = \"\"\"He is an awesome boy and an awesome dancer too . She is an awesome girl. Both the boy and the girl are awesome. It was a good movie.\"\"\" "
   ]
  },
  {
   "attachments": {},
   "cell_type": "markdown",
   "metadata": {},
   "source": [
    "# Bag of Words"
   ]
  },
  {
   "cell_type": "code",
   "execution_count": 3,
   "metadata": {},
   "outputs": [
    {
     "data": {
      "text/plain": [
       "{'he': 9,\n",
       " 'is': 10,\n",
       " 'an': 0,\n",
       " 'awesome': 3,\n",
       " 'boy': 5,\n",
       " 'and': 1,\n",
       " 'dancer': 6,\n",
       " 'too': 15,\n",
       " 'she': 13,\n",
       " 'girl': 7,\n",
       " 'both': 4,\n",
       " 'the': 14,\n",
       " 'are': 2,\n",
       " 'it': 11,\n",
       " 'was': 16,\n",
       " 'good': 8,\n",
       " 'movie': 12}"
      ]
     },
     "execution_count": 3,
     "metadata": {},
     "output_type": "execute_result"
    }
   ],
   "source": [
    "from sklearn.feature_extraction.text import CountVectorizer\n",
    "cv = CountVectorizer()\n",
    "\n",
    "sents = nltk.sent_tokenize(para)\n",
    "vect = cv.fit_transform(sents).toarray()\n",
    "\n",
    "cv.vocabulary_"
   ]
  },
  {
   "attachments": {},
   "cell_type": "markdown",
   "metadata": {},
   "source": [
    "# Binary Bag of Words"
   ]
  },
  {
   "cell_type": "code",
   "execution_count": 4,
   "metadata": {},
   "outputs": [],
   "source": [
    "bb = CountVectorizer(binary=True)\n",
    "model = bb.fit_transform(sents).toarray()"
   ]
  },
  {
   "cell_type": "code",
   "execution_count": 5,
   "metadata": {},
   "outputs": [
    {
     "data": {
      "text/plain": [
       "[' kalinga institute of industrial technology  kiit   formerly kiit university  is a private deemed university    located in bhubaneswar  odisha  india ',\n",
       " '       it primarily emphasizes on higher education and research in engineering and science ',\n",
       " '    it offers    undergraduate     postgraduate     integrated     ph d and   postdoctoral research programmes in the fields of science and engineering  medical science  management  law  film and media  humanities and yoga and sports ',\n",
       " '    the admissions for b tech ',\n",
       " 'programmes are purely based on merit as per the results in kiitee exam ',\n",
       " '         it was founded in      as industrial training institute in bhubaneswar with a seed revenue of        us       ',\n",
       " '     in      it was renamed back as kalinga institute of industrial technology following the ugc request to drop  university  from the name for all the institutes granted the status of  deemed to be universities  ',\n",
       " '     it is part of kiit society which is estimated to be worth         crores  us     billion  as of      ',\n",
       " '    ']"
      ]
     },
     "execution_count": 5,
     "metadata": {},
     "output_type": "execute_result"
    }
   ],
   "source": [
    "import re\n",
    "\n",
    "para_new=\"\"\" Kalinga Institute of Industrial Technology (KIIT), formerly KIIT University, is a private deemed university[5] located in Bhubaneswar, Odisha, India.[6][7] It primarily emphasizes on higher education and research in engineering and science.[8] It offers 34 undergraduate, 32 postgraduate, 10 integrated, 11 Ph.D and 7 postdoctoral research programmes in the fields of science and engineering, medical science, management, law, film and media, humanities and yoga and sports.[9] The admissions for B.Tech. programmes are purely based on merit as per the results in KIITEE exam.[10][11]\n",
    "It was founded in 1992 as Industrial Training Institute in Bhubaneswar with a seed revenue of ₹5000 (US$66.8).[12] In 2017 it was renamed back as Kalinga Institute of Industrial Technology following the UGC request to drop \"University\" from the name for all the institutes granted the status of 'Deemed to be Universities'.[13] It is part of KIIT Society which is estimated to be worth ₹10,000 Crores (US$1.3 billion) as of 2020.[14]\"\"\"\n",
    "\n",
    "sents_new = nltk.sent_tokenize(para_new)\n",
    "corpus = [(re.sub('[^a-zA-Z]',' ',s)).lower() for s in sents_new]\n",
    "corpus"
   ]
  },
  {
   "cell_type": "code",
   "execution_count": 6,
   "metadata": {},
   "outputs": [
    {
     "data": {
      "text/plain": [
       "{'kalinga': 49,\n",
       " 'institute': 44,\n",
       " 'of': 60,\n",
       " 'industrial': 43,\n",
       " 'technology': 83,\n",
       " 'kiit': 50,\n",
       " 'formerly': 35,\n",
       " 'university': 90,\n",
       " 'is': 47,\n",
       " 'private': 69,\n",
       " 'deemed': 24,\n",
       " 'located': 53,\n",
       " 'in': 41,\n",
       " 'bhubaneswar': 21,\n",
       " 'odisha': 59,\n",
       " 'india': 42,\n",
       " 'it': 48,\n",
       " 'primarily': 68,\n",
       " 'emphasizes': 27,\n",
       " 'on': 62,\n",
       " 'higher': 39,\n",
       " 'education': 26,\n",
       " 'and': 15,\n",
       " 'research': 74,\n",
       " 'engineering': 28,\n",
       " 'science': 77,\n",
       " 'offers': 61,\n",
       " '34': 10,\n",
       " 'undergraduate': 88,\n",
       " '32': 9,\n",
       " 'postgraduate': 67,\n",
       " '10': 1,\n",
       " 'integrated': 46,\n",
       " '11': 2,\n",
       " 'ph': 65,\n",
       " 'postdoctoral': 66,\n",
       " 'programmes': 70,\n",
       " 'the': 84,\n",
       " 'fields': 31,\n",
       " 'medical': 56,\n",
       " 'management': 54,\n",
       " 'law': 52,\n",
       " 'film': 32,\n",
       " 'media': 55,\n",
       " 'humanities': 40,\n",
       " 'yoga': 96,\n",
       " 'sports': 80,\n",
       " 'admissions': 13,\n",
       " 'for': 34,\n",
       " 'tech': 82,\n",
       " 'are': 16,\n",
       " 'purely': 71,\n",
       " 'based': 19,\n",
       " 'merit': 57,\n",
       " 'as': 17,\n",
       " 'per': 64,\n",
       " 'results': 75,\n",
       " 'kiitee': 51,\n",
       " 'exam': 30,\n",
       " 'was': 92,\n",
       " 'founded': 36,\n",
       " '1992': 6,\n",
       " 'training': 86,\n",
       " 'with': 94,\n",
       " 'seed': 78,\n",
       " 'revenue': 76,\n",
       " '5000': 11,\n",
       " 'us': 91,\n",
       " '66': 12,\n",
       " '12': 3,\n",
       " '2017': 7,\n",
       " 'renamed': 72,\n",
       " 'back': 18,\n",
       " 'following': 33,\n",
       " 'ugc': 87,\n",
       " 'request': 73,\n",
       " 'to': 85,\n",
       " 'drop': 25,\n",
       " 'from': 37,\n",
       " 'name': 58,\n",
       " 'all': 14,\n",
       " 'institutes': 45,\n",
       " 'granted': 38,\n",
       " 'status': 81,\n",
       " 'be': 20,\n",
       " 'universities': 89,\n",
       " '13': 4,\n",
       " 'part': 63,\n",
       " 'society': 79,\n",
       " 'which': 93,\n",
       " 'estimated': 29,\n",
       " 'worth': 95,\n",
       " '000': 0,\n",
       " 'crores': 23,\n",
       " 'billion': 22,\n",
       " '2020': 8,\n",
       " '14': 5}"
      ]
     },
     "execution_count": 6,
     "metadata": {},
     "output_type": "execute_result"
    }
   ],
   "source": [
    "words = nltk.word_tokenize(para_new)\n",
    "vect_new = cv.fit_transform(words).toarray()\n",
    "\n",
    "cv.vocabulary_"
   ]
  }
 ],
 "metadata": {
  "kernelspec": {
   "display_name": "Python 3",
   "language": "python",
   "name": "python3"
  },
  "language_info": {
   "codemirror_mode": {
    "name": "ipython",
    "version": 3
   },
   "file_extension": ".py",
   "mimetype": "text/x-python",
   "name": "python",
   "nbconvert_exporter": "python",
   "pygments_lexer": "ipython3",
   "version": "3.10.10"
  },
  "orig_nbformat": 4
 },
 "nbformat": 4,
 "nbformat_minor": 2
}
