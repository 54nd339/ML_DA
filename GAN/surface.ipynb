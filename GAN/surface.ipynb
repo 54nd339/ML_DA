{
 "cells": [
  {
   "cell_type": "code",
   "execution_count": null,
   "metadata": {},
   "outputs": [],
   "source": [
    "import numpy as np\n",
    "import plotly.graph_objects as go"
   ]
  },
  {
   "cell_type": "code",
   "execution_count": null,
   "metadata": {},
   "outputs": [],
   "source": [
    "def loss_function(x, y, equation):\n",
    "    if equation == 0:\n",
    "        return -3*x*x - y*y + 4*x*y\n",
    "    elif equation == 1:\n",
    "        return 3*x*x + y*y + 4*x*y\n",
    "    elif equation == 2:\n",
    "        return (4*x*x - (y-3*x+0.05*x**3)**2 - 0.1*y**4)*np.exp(-0.01*(x**2+y**2))\n",
    "    elif equation == 3:\n",
    "        return ((0.3*x*x + y)**2 + (0.1*y*y + x)**2)*np.exp(-0.01*(x**2+y**2))\n",
    "    elif equation == 4:\n",
    "        return np.log(1+np.exp(x)) + 3*x*y - np.log(1+np.exp(y))\n",
    "    # elif equation == 5:\n",
    "    #     return F(x) + 3*x*y - F(y)"
   ]
  },
  {
   "cell_type": "code",
   "execution_count": null,
   "metadata": {},
   "outputs": [],
   "source": [
    "# Plot the 3D surface of the loss function and the path taken by each algorithm\n",
    "def plot_3d(equation, xlims, ylims, zlims, vals=[]):\n",
    "    X = np.linspace(xlims[0], xlims[1], 1000)\n",
    "    Y = np.linspace(ylims[0], ylims[1], 1000)\n",
    "    X, Y = np.meshgrid(X, Y)\n",
    "    Z = loss_function(X, Y, equation)\n",
    "    \n",
    "    fig = go.Figure(data=[go.Surface(z=Z, x=X, y=Y)])\n",
    "    # path = ['blue', 'black', 'cyan', 'yellow', 'magenta', 'green', 'white', 'red', 'white']\n",
    "    # for i in vals:\n",
    "    #     val = np.asarray(i[1])\n",
    "    #     fig.add_trace(go.Scatter3d(x=val[:,0], y=val[:,1], z=val[:,2], mode='lines',\n",
    "    #                                line=dict(color=path.pop()), name=i[0].upper()))\n",
    "    \n",
    "    # fig.update_layout(scene = dict(xaxis=dict(range=xlims),\n",
    "    #                                yaxis=dict(range=ylims),\n",
    "    #                                zaxis=dict(range=zlims)),\n",
    "    #                     autosize=False, width=500, height=500)\n",
    "\n",
    "    fig.show()"
   ]
  },
  {
   "cell_type": "code",
   "execution_count": null,
   "metadata": {},
   "outputs": [],
   "source": [
    "equations = ['-3x^2 - y^2 + 4xy', '3x^2 + y^2 + 4xy',\n",
    "             '(4x^2 - (y-3x+0.05x^3)^2 - 0.1y^4)*e^(-0.01(x^2+y^2))',\n",
    "             '((0.3x^2 + y)^2 + (0.1y^2 + x)^2)*e^(-0.01(x^2+y^2))',\n",
    "             'ln(1+e^x) + 3xy - ln(1+e^y)']\n",
    "# for i in range(len(equations)):\n",
    "#     print(str(i) + '. ' + equations[i])\n",
    "#     plot_3d(i, [-10, 10], [-10, 10], [-10, 10])\n",
    "\n",
    "print('Equations:')\n",
    "for i in range(len(equations)):\n",
    "    print(str(i) + '. ' + equations[i])\n",
    "i = int(input('Select Equation: '))\n",
    "\n",
    "plot_3d(i, [-10, 10], [-10, 10], [-10, 10])"
   ]
  }
 ],
 "metadata": {
  "kernelspec": {
   "display_name": "Python 3",
   "language": "python",
   "name": "python3"
  },
  "language_info": {
   "codemirror_mode": {
    "name": "ipython",
    "version": 3
   },
   "file_extension": ".py",
   "mimetype": "text/x-python",
   "name": "python",
   "nbconvert_exporter": "python",
   "pygments_lexer": "ipython3",
   "version": "3.10.10"
  },
  "orig_nbformat": 4
 },
 "nbformat": 4,
 "nbformat_minor": 2
}
