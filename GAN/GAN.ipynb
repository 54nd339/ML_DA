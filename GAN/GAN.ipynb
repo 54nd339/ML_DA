{
 "cells": [
  {
   "cell_type": "code",
   "execution_count": 1,
   "metadata": {},
   "outputs": [],
   "source": [
    "from autograd import grad\n",
    "import autograd.numpy as np"
   ]
  },
  {
   "attachments": {},
   "cell_type": "markdown",
   "metadata": {},
   "source": [
    "# PARAMS"
   ]
  },
  {
   "cell_type": "code",
   "execution_count": 2,
   "metadata": {},
   "outputs": [],
   "source": [
    "x, y = 0.5, 1.5\n",
    "lr = 0.05\n",
    "equation = 2\n",
    "iter = 1000"
   ]
  },
  {
   "attachments": {},
   "cell_type": "markdown",
   "metadata": {},
   "source": [
    "# Loss Functions"
   ]
  },
  {
   "cell_type": "code",
   "execution_count": 3,
   "metadata": {},
   "outputs": [],
   "source": [
    "if equation == 0:\n",
    "    loss_function = lambda x, y: -3*x*x - y*y + 4*x*y\n",
    "elif equation == 1:\n",
    "    loss_function = lambda x, y: 3*x*x + y*y + 4*x*y\n",
    "elif equation == 2:\n",
    "    loss_function = lambda x, y: (4*x*x - (y-3*x+0.05*x**3)**2 - 0.1*y**4)*np.exp(-0.01*(x**2+y**2))"
   ]
  },
  {
   "attachments": {},
   "cell_type": "markdown",
   "metadata": {},
   "source": [
    "# Gradient Descent Ascent"
   ]
  },
  {
   "cell_type": "code",
   "execution_count": 4,
   "metadata": {},
   "outputs": [],
   "source": [
    "gda_vals = [[x, y, loss_function(x, y)]]\n",
    "def GDA(x, y, lr):\n",
    "    print('Gradient Descent Ascent: ')\n",
    "    for c in range(iter):\n",
    "        x = x - lr * grad(loss_function, 0)(x, y)\n",
    "        y = y + lr * grad(loss_function, 1)(x, y)\n",
    "        z = loss_function(x, y)\n",
    "        \n",
    "        gda_vals.append([x, y, z])"
   ]
  },
  {
   "attachments": {},
   "cell_type": "markdown",
   "metadata": {},
   "source": [
    "# Optimistic GDA"
   ]
  },
  {
   "cell_type": "code",
   "execution_count": 5,
   "metadata": {},
   "outputs": [],
   "source": [
    "ogda_vals = [[x, y, loss_function(x, y)]]\n",
    "def OGDA(x, y, lr):\n",
    "    print('Optimistic Gradient Descent Ascent: ')\n",
    "    x0, y0, x1, y1 = x, y, x-lr, y+lr\n",
    "    for c in range(iter):\n",
    "        grad_f = grad(loss_function, (0, 1))\n",
    "        grad_x0, grad_y0 = grad_f(x0, y0)\n",
    "        grad_x1, grad_y1 = grad_f(x1, y1)\n",
    "\n",
    "        x_new = x1 - 2*lr*grad_x1 + lr*grad_x0\n",
    "        y_new = y1 + 2*lr*grad_y1 - lr*grad_y0\n",
    "\n",
    "        x0, y0, x1, y1 = x1, y1, x_new, y_new\n",
    "        z = loss_function(x1, y1)\n",
    "        ogda_vals.append([x1, y1, z])"
   ]
  },
  {
   "attachments": {},
   "cell_type": "markdown",
   "metadata": {},
   "source": [
    "# Extragradient"
   ]
  },
  {
   "cell_type": "code",
   "execution_count": 6,
   "metadata": {},
   "outputs": [],
   "source": [
    "eg_vals = [[x, y, loss_function(x, y)]]\n",
    "def EG(x, y, lr):\n",
    "    print('Extragradient: ')\n",
    "    for c in range(iter):\n",
    "        grad_f = grad(loss_function, (0, 1))\n",
    "        grad_x, grad_y = grad_f(x, y)\n",
    "\n",
    "        x_temp = x - lr*grad_x\n",
    "        y_temp = y + lr*grad_y\n",
    "        grad_x_temp, grad_y_temp = grad_f(x_temp, y_temp)\n",
    "\n",
    "        x = x - lr * grad_x_temp\n",
    "        y = y + lr * grad_y_temp\n",
    "        z = loss_function(x, y)\n",
    "        \n",
    "        eg_vals.append([x, y, z])"
   ]
  },
  {
   "cell_type": "code",
   "execution_count": 7,
   "metadata": {},
   "outputs": [],
   "source": [
    "def hessian(loss_function):\n",
    "    grad_grad_fx = grad(grad(loss_function, 0), (0,1))\n",
    "    grad_grad_fy = grad(grad(loss_function, 1), (0,1))\n",
    "    return np.asarray((grad_grad_fx(x, y), grad_grad_fy(x, y)))"
   ]
  },
  {
   "attachments": {},
   "cell_type": "markdown",
   "metadata": {},
   "source": [
    "# Symplectic Gradient Adjustment"
   ]
  },
  {
   "cell_type": "code",
   "execution_count": 8,
   "metadata": {},
   "outputs": [],
   "source": [
    "sga_vals = [[x, y, loss_function(x, y)]]\n",
    "def SGA(x, y, lr):\n",
    "    lamda = 1\n",
    "    print('Symplectic Gradient Adjustment: ')\n",
    "    for c in range(iter):\n",
    "        grad_f = grad(loss_function, (0,1))\n",
    "        grad_fx, grad_fy = grad_f(x, y)\n",
    "        hess = hessian(loss_function)\n",
    "\n",
    "        x = x - lr*grad_fx - lr*lamda*hess[0][1]*grad_fy\n",
    "        y = y + lr*grad_fy - lr*lamda*hess[1][0]*grad_fx\n",
    "        z = loss_function(x, y)\n",
    "\n",
    "        sga_vals.append([x, y, z])"
   ]
  },
  {
   "attachments": {},
   "cell_type": "markdown",
   "metadata": {},
   "source": [
    "# Concensus Optimization"
   ]
  },
  {
   "cell_type": "code",
   "execution_count": 9,
   "metadata": {},
   "outputs": [],
   "source": [
    "co_vals = [[x, y, loss_function(x, y)]]\n",
    "def CO(x, y, lr):\n",
    "    gamma = 0.1 # 0.01, 0.03, 0.1, 0.3, 1, 3, 10 \n",
    "    print('Concensus Optimization: ')\n",
    "    for c in range(iter):\n",
    "        grad_f = grad(loss_function, (0,1))\n",
    "        grad_fx, grad_fy = grad_f(x, y)\n",
    "        grad_fxy = np.asarray((grad_fx, grad_fy))\n",
    "\n",
    "        # ∇||∇f(x,y)||^2 = 2*∇(∇f(x,y))*∇f(x,y) = 2*(H(f(x,y)).∇f(x,y))\n",
    "        hess = hessian(loss_function)\n",
    "        grad_fnorm_squared_x, grad_fnorm_squared_y = 2 * np.dot(hess, grad_fxy)\n",
    "        \n",
    "        x = x - lr*grad_fx - gamma*lr*grad_fnorm_squared_x\n",
    "        y = y + lr*grad_fy - gamma*lr*grad_fnorm_squared_y\n",
    "        z = loss_function(x, y)\n",
    "        \n",
    "        co_vals.append([x, y, z])"
   ]
  },
  {
   "attachments": {},
   "cell_type": "markdown",
   "metadata": {},
   "source": [
    "# Unrolled SGD \n",
    "#### (Rectify this)"
   ]
  },
  {
   "cell_type": "code",
   "execution_count": 10,
   "metadata": {},
   "outputs": [],
   "source": [
    "usgd_vals = [[x, y, loss_function(x, y)]]\n",
    "def USGD(x, y, lr):\n",
    "    print('Unrolled SGD: ')\n",
    "    for c in range(iter):\n",
    "        grad_f = grad(loss_function, (0,1))\n",
    "        grad_fx, grad_fy = grad_f(x, y)\n",
    "\n",
    "        grad_yx = grad(loss_function, 0)(y, x)\n",
    "        grad_xy = grad(loss_function, 1)(y, x)\n",
    "        # Dunno how to calculate ∇ₓyₖ and ∇ᵧxₖ\n",
    "\n",
    "        x = x - lr * (grad_fx + grad_yx)\n",
    "        y = y - lr * (-grad_fy + grad_xy)\n",
    "        z = loss_function(x, y)\n",
    "        \n",
    "        usgd_vals.append([x, y, z])\n",
    "        \n",
    "    return 0"
   ]
  },
  {
   "attachments": {},
   "cell_type": "markdown",
   "metadata": {},
   "source": [
    "# Follow the Ridge"
   ]
  },
  {
   "cell_type": "code",
   "execution_count": 11,
   "metadata": {},
   "outputs": [],
   "source": [
    "fr_vals = [[x, y, loss_function(x, y)]]\n",
    "def FR(x, y, lr):\n",
    "    lr_x, lr_y = lr, lr/4\n",
    "    print('Follow the Ridge: ')\n",
    "    for c in range(iter):\n",
    "        grad_f = grad(loss_function, (0,1))\n",
    "        grad_fx, grad_fy = grad_f(x, y) \n",
    "        hess = hessian(loss_function)\n",
    "\n",
    "        x = x - lr_x * grad_fx\n",
    "        y = y + lr_y*grad_fy + lr_x*(1/hess[1][1])*hess[1][0]*grad_fx\n",
    "        z = loss_function(x, y)\n",
    "        \n",
    "        fr_vals.append([x, y, z])"
   ]
  },
  {
   "attachments": {},
   "cell_type": "markdown",
   "metadata": {},
   "source": [
    "# Gradient Minimization Network\n",
    "\n",
    "The commented code is the code that I have written to implement the algorithm. The code below is the original code from the paper that was shown in the video.\\\n",
    "These are the number of iterartions taken for convergence : My algo-[26, 168, 23] vs YT algo-[30, X, 18]\\\n",
    "My code converges in equation 1 too."
   ]
  },
  {
   "cell_type": "code",
   "execution_count": 12,
   "metadata": {},
   "outputs": [],
   "source": [
    "gmn_vals = [[x, y, loss_function(x, y)]]\n",
    "def GMN(x, y, lr):\n",
    "    print('Gradient Minimization Network: ')\n",
    "    # k = {5, 10, 25, 50}\n",
    "    \n",
    "    DG = lambda x_,y_: abs(loss_function(x_, y_w) - loss_function(x_w, y_))\n",
    "    for c in range(iter):\n",
    "        x_w, y_w = x, y \n",
    "        for k in range(5):\n",
    "            x_w = x_w - lr * grad(loss_function, 0)(x_w, y)\n",
    "            y_w = y_w + lr * grad(loss_function, 1)(x, y_w)\n",
    "\n",
    "        x = x - lr * grad(DG, 0)(x,y)\n",
    "        y = y - lr * grad(DG, 1)(x,y)\n",
    "        z = loss_function(x,y)\n",
    "        \n",
    "        gmn_vals.append([x, y, z])\n",
    "\n",
    "    # DG = lambda x_,y_: abs(loss_function(x_, y_min) - loss_function(x_max, y_))\n",
    "    # for c in range(iter):\n",
    "    #     for k in range(5):\n",
    "    #         y_min = y - lr * grad(loss_function,1)(x,y) # minimizing y\n",
    "    #         x_max = x + lr * grad(loss_function,0)(x,y) # maximizing x\n",
    "\n",
    "    #         x = x - lr * grad(DG,0)(x,y)\n",
    "    #         y = y - lr * grad(DG,1)(x,y)\n",
    "    #         z = loss_function(x,y)\n",
    "\n",
    "    #     gmn_vals.append([x, y, z])"
   ]
  },
  {
   "attachments": {},
   "cell_type": "markdown",
   "metadata": {},
   "source": [
    "# Convergence Analysis"
   ]
  },
  {
   "cell_type": "code",
   "execution_count": 13,
   "metadata": {},
   "outputs": [],
   "source": [
    "import os\n",
    "if not os.path.exists('vals'):\n",
    "    os.makedirs('vals')\n",
    "\n",
    "def check_convergence(vals, filename):\n",
    "    with open(f'vals/{filename}', 'w') as f:\n",
    "        for item in vals:\n",
    "            f.write(f'x: {round(item[0], 5)} y: {round(item[1], 5)} z: {round(item[2], 5)}\\n')\n",
    "\n",
    "        for i in range(len(vals)-1):\n",
    "            if abs(round(vals[i][0],5) - round(vals[i+1][0],5)) == 0\\\n",
    "                and abs(round(vals[i][1],5) - round(vals[i+1][1],5)) == 0:\n",
    "                f.write(f'Converged at iteration {i+1} at f({round(vals[i][0], 5)}, {round(vals[i][1], 5)}) = {round(vals[i][2], 5)}')\n",
    "                print(f'\\tConverged at iteration {i+1} at f({round(vals[i][0], 5)}, {round(vals[i][1], 5)}) = {round(vals[i][2], 5)}')\n",
    "                return\n",
    "        \n",
    "        f.write('Did not converge')\n",
    "        print('\\tDid not converge') "
   ]
  },
  {
   "cell_type": "code",
   "execution_count": 14,
   "metadata": {},
   "outputs": [
    {
     "name": "stdout",
     "output_type": "stream",
     "text": [
      "Gradient Descent Ascent: \n",
      "\tDid not converge\n",
      "Optimistic Gradient Descent Ascent: \n",
      "\tDid not converge\n",
      "Extragradient: \n",
      "\tDid not converge\n",
      "Concensus Optimization: \n",
      "\tConverged at iteration 631 at f(8.10126, -0.62066) = 134.23176\n",
      "Symplectic Gradient Adjustment: \n",
      "\tConverged at iteration 10 at f(-21.8809, -97.6991) = -0.0\n",
      "Follow the Ridge: \n",
      "\tDid not converge\n",
      "Gradient Minimization Network: \n",
      "\tConverged at iteration 37 at f(1e-05, 2e-05) = 0.0\n"
     ]
    }
   ],
   "source": [
    "GDA(x, y, lr)\n",
    "check_convergence(gda_vals, 'gda.txt')\n",
    "OGDA(x, y, lr)\n",
    "check_convergence(ogda_vals, 'ogda.txt')\n",
    "EG(x, y, lr)\n",
    "check_convergence(eg_vals, 'eg.txt')\n",
    "CO(x, y, lr)\n",
    "check_convergence(co_vals, 'co.txt')\n",
    "SGA(x, y, lr)\n",
    "check_convergence(sga_vals, 'sga.txt')\n",
    "# USGD(x, y, lr)\n",
    "# check_convergence(usgd_vals, 'usgd.txt')\n",
    "FR(x, y, lr)\n",
    "check_convergence(fr_vals, 'fr.txt')\n",
    "GMN(x, y, lr)\n",
    "check_convergence(gmn_vals, 'gmn.txt')"
   ]
  },
  {
   "attachments": {},
   "cell_type": "markdown",
   "metadata": {},
   "source": [
    "# Plot the Paths"
   ]
  },
  {
   "cell_type": "code",
   "execution_count": 15,
   "metadata": {},
   "outputs": [
    {
     "data": {
      "image/png": "[encoded data removed]",
      "text/plain": [
       "<Figure size 640x480 with 1 Axes>"
      ]
     },
     "metadata": {},
     "output_type": "display_data"
    }
   ],
   "source": [
    "import matplotlib.pyplot as plt\n",
    "from matplotlib import cm\n",
    "import matplotlib.ticker as mticker\n",
    "\n",
    "# Plot the loss function as contour and the path taken by each algorithm\n",
    "X = np.linspace(-5, 5, 500)\n",
    "Y = np.linspace(-5, 5, 500)\n",
    "X, Y = np.meshgrid(X, Y)\n",
    "Z = loss_function(X, Y)\n",
    "fig, ax = plt.subplots(1, 1)\n",
    "ax.contourf(X, Y, Z, 30, cmap=cm.coolwarm)\n",
    "ax.set_xlabel('x')\n",
    "ax.set_ylabel('y')\n",
    "ax.set_title('Loss Function Contour')\n",
    "\n",
    "def clean_vals(vals):\n",
    "    res = []\n",
    "    for val in vals:\n",
    "        if(val[0] > 5 or val[0] < -5 or val[1] > 5 or val[1] < -5):\n",
    "            break\n",
    "        res.append(val)\n",
    "    return res\n",
    "\n",
    "gda_vals = clean_vals(gda_vals)\n",
    "ogda_vals = clean_vals(ogda_vals)\n",
    "eg_vals = clean_vals(eg_vals)\n",
    "sga_vals = clean_vals(sga_vals)\n",
    "co_vals = clean_vals(co_vals)\n",
    "# usgd_vals = clean_vals(usgd_vals)\n",
    "fr_vals = clean_vals(fr_vals)\n",
    "gmn_vals = clean_vals(gmn_vals)\n",
    "\n",
    "gda_vals = np.asarray(gda_vals)\n",
    "ax.plot(gda_vals[:,0], gda_vals[:,1], 'r--', label='GDA')\n",
    "ogda_vals = np.asarray(ogda_vals)\n",
    "ax.plot(ogda_vals[:,0], ogda_vals[:,1], 'g--', label='OGDA')\n",
    "eg_vals = np.asarray(eg_vals)\n",
    "ax.plot(eg_vals[:,0], eg_vals[:,1], 'm--', label='EG')\n",
    "sga_vals = np.asarray(sga_vals)\n",
    "ax.plot(sga_vals[:,0], sga_vals[:,1], 'y--', label='SGA')\n",
    "co_vals = np.asarray(co_vals)\n",
    "ax.plot(co_vals[:,0], co_vals[:,1], 'c--', label='CO')\n",
    "# usgd_vals = np.asarray(usgd_vals)\n",
    "# ax.plot(usgd_vals[:,0], usgd_vals[:,1], 'w--', label='USGD')\n",
    "fr_vals = np.asarray(fr_vals)\n",
    "ax.plot(fr_vals[:,0], fr_vals[:,1], 'k--', label='FR')\n",
    "gmn_vals = np.asarray(gmn_vals)\n",
    "ax.plot(gmn_vals[:,0], gmn_vals[:,1], 'b--', label='GMN')\n",
    "\n",
    "ax.legend()\n",
    "plt.show()"
   ]
  }
 ],
 "metadata": {
  "kernelspec": {
   "display_name": "Python 3",
   "language": "python",
   "name": "python3"
  },
  "language_info": {
   "codemirror_mode": {
    "name": "ipython",
    "version": 3
   },
   "file_extension": ".py",
   "mimetype": "text/x-python",
   "name": "python",
   "nbconvert_exporter": "python",
   "pygments_lexer": "ipython3",
   "version": "3.10.10"
  },
  "orig_nbformat": 4
 },
 "nbformat": 4,
 "nbformat_minor": 2
}
