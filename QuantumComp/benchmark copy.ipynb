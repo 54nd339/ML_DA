{
 "cells": [
  {
   "cell_type": "code",
   "execution_count": 46,
   "metadata": {},
   "outputs": [],
   "source": [
    "import re\n",
    "import math\n",
    "import copy\n",
    "from collections import deque"
   ]
  },
  {
   "attachments": {},
   "cell_type": "markdown",
   "metadata": {},
   "source": [
    "# Utils"
   ]
  },
  {
   "cell_type": "code",
   "execution_count": 47,
   "metadata": {},
   "outputs": [],
   "source": [
    "def find_qubit(qubit, grid):\n",
    "    for i in range(len(grid)):\n",
    "        for j in range(len(grid[0])):\n",
    "            if grid[i][j] == qubit:\n",
    "                return (i, j)\n",
    "    return None\n",
    "\n",
    "def ManDist(neighbor, qubit):\n",
    "    return abs(neighbor[0] - qubit[0]) + abs(neighbor[1] - qubit[1]) - 1\n",
    "\n",
    "def DoA(new_qubit, qubit_pos, grid, adj_mat):\n",
    "    qubit = grid[qubit_pos[0]][qubit_pos[1]]\n",
    "    return adj_mat[new_qubit-1][qubit-1] + adj_mat[qubit-1][new_qubit-1]\n",
    "\n",
    "def update_neighbor_list(grid, X, Y, neighborList = set()):\n",
    "    # Remove the occupied NN positions from neighborList.\n",
    "    if (X, Y) in neighborList:\n",
    "        neighborList.remove((X, Y))\n",
    "    if Y > 0 and grid[X][Y-1] == 0:\n",
    "        neighborList.add((X, Y-1))\n",
    "    if X > 0 and grid[X-1][Y] == 0:\n",
    "        neighborList.add((X-1, Y))\n",
    "    if Y < len(grid[0])-1 and grid[X][Y+1] == 0:\n",
    "        neighborList.add((X, Y+1))\n",
    "    if X < len(grid)-1 and grid[X+1][Y] == 0:\n",
    "        neighborList.add((X+1, Y))\n",
    "    return neighborList"
   ]
  },
  {
   "attachments": {},
   "cell_type": "markdown",
   "metadata": {},
   "source": [
    "# Place Qubits"
   ]
  },
  {
   "cell_type": "code",
   "execution_count": 48,
   "metadata": {},
   "outputs": [],
   "source": [
    "def place_qubits(pq, M, N, adj_mat):\n",
    "    grid = [[0 for _ in range(N)] for _ in range(M)]\n",
    "    placedQubitList = []\n",
    "\n",
    "    # Place the first qubit in the center of the grid.\n",
    "    grid[M//2][N//2] = pq.pop(0)\n",
    "    placedQubitList.append((M//2, N//2))\n",
    "    neighborList = update_neighbor_list(grid, M//2, N//2)\n",
    "    # print(neighborList, placedQubitList)\n",
    "\n",
    "    # Place the remaining qubits.\n",
    "    while pq:\n",
    "        q = pq.pop(0)\n",
    "        minCost, minX, minY = int(1e9), int(1e9), int(1e9)\n",
    "        for neighbor in neighborList:\n",
    "            cost = 0\n",
    "            for qubit in placedQubitList:\n",
    "                cost += ManDist(neighbor, qubit) * DoA(q, qubit, grid, adj_mat)\n",
    "            if cost < minCost:\n",
    "                minCost = cost\n",
    "                minX, minY = neighbor\n",
    "            elif cost == minCost:\n",
    "                if abs(neighbor[0] - M//2) + abs(neighbor[1] - N//2) < abs(minX - M//2) + abs(minY - N//2):\n",
    "                    minX, minY = neighbor\n",
    "            # print(f\"qubit: {q}, neighbor: {neighbor}, cost: {cost}, minCost: {minCost}, minX: {minX}, minY: {minY}\")\n",
    "        grid[minX][minY] = q\n",
    "        placedQubitList.append((minX, minY))\n",
    "        neighborList = update_neighbor_list(grid, minX, minY, neighborList)\n",
    "        # print(neighborList, placedQubitList)\n",
    "\n",
    "    return grid\n"
   ]
  },
  {
   "attachments": {},
   "cell_type": "markdown",
   "metadata": {},
   "source": [
    "# Finding the best paths"
   ]
  },
  {
   "cell_type": "code",
   "execution_count": 49,
   "metadata": {},
   "outputs": [],
   "source": [
    "# Check if cell(x,y) is in the grid\n",
    "def is_valid_cell(grid, x, y):\n",
    "    M, N = len(grid), len(grid[0])\n",
    "    return 0 <= x < M and 0 <= y < N\n",
    "\n",
    "def find_min_paths(grid, src, dest):\n",
    "    M, N = len(grid), len(grid[0])\n",
    "    directions = [(0, -1), (-1, 0), (0, 1), (1, 0)]\n",
    "    queue = deque([(src, [src])])\n",
    "    min_paths = []\n",
    "    visited = set()\n",
    "\n",
    "    while queue:\n",
    "        (x, y), path = queue.popleft()\n",
    "        if (x, y) == dest:\n",
    "            min_paths.append(path)\n",
    "        for dx, dy in directions:\n",
    "            nx, ny = x + dx, y + dy\n",
    "            if is_valid_cell(grid, nx, ny) and (nx, ny) not in visited:\n",
    "                queue.append(((nx, ny), path + [(nx, ny)]))\n",
    "        visited.add((x, y))\n",
    "    return min_paths\n",
    "    "
   ]
  },
  {
   "attachments": {},
   "cell_type": "markdown",
   "metadata": {},
   "source": [
    "# Rearrange Utils"
   ]
  },
  {
   "cell_type": "code",
   "execution_count": 50,
   "metadata": {},
   "outputs": [],
   "source": [
    "def nPaths(p1, p2):\n",
    "    x1, y1 = p1[0], p1[1]\n",
    "    x2, y2 = p2[0], p2[1]\n",
    "    right_moves = abs(y1-y2)\n",
    "    down_moves = abs(x1-x2)\n",
    "    total_moves = right_moves + down_moves\n",
    "    return int(math.factorial(total_moves) / (math.factorial(right_moves) * math.factorial(down_moves)))\n",
    "\n",
    "def nTrace(p1, p2):\n",
    "    x1, y1 = p1[0], p1[1]\n",
    "    x2, y2 = p2[0], p2[1]\n",
    "    return abs(x1-x2) + abs(y1-y2) -1\n",
    "\n",
    "def swap_qubits(grid, path):\n",
    "    n = len(path) - 1\n",
    "    grids = []\n",
    "    for i in range(n):\n",
    "        new_grid = copy.deepcopy(grid)\n",
    "        swap_src, swap_dest = i, n-i-1\n",
    "        count = 0\n",
    "\n",
    "        for j in range(swap_src):\n",
    "            x1, y1 = path[j][0], path[j][1]\n",
    "            x2, y2 = path[j+1][0], path[j+1][1]\n",
    "            new_grid[x1][y1], new_grid[x2][y2] = new_grid[x2][y2], new_grid[x1][y1]\n",
    "            count += 1\n",
    "        \n",
    "        for j in range(swap_dest):\n",
    "            x1, y1 = path[n-j][0], path[n-j][1]\n",
    "            x2, y2 = path[n-j-1][0], path[n-j-1][1]\n",
    "            new_grid[x1][y1], new_grid[x2][y2] = new_grid[x2][y2], new_grid[x1][y1]\n",
    "            count += 1\n",
    "\n",
    "        grids.append(new_grid)\n",
    "\n",
    "    return grids"
   ]
  },
  {
   "attachments": {},
   "cell_type": "markdown",
   "metadata": {},
   "source": [
    "# Gate Level Interaction Routing"
   ]
  },
  {
   "cell_type": "code",
   "execution_count": 51,
   "metadata": {},
   "outputs": [],
   "source": [
    "def rearrange_grid(grid, q1, q2, swaps):\n",
    "    p1 = find_qubit(q1, grid)\n",
    "    p2 = find_qubit(q2, grid)\n",
    "\n",
    "    np = nPaths(p1, p2)\n",
    "    nt = nTrace(p1, p2)\n",
    "    pathList = find_min_paths(grid, p1, p2)\n",
    "    # print(f\"np: {np}, nt: {nt}, pathList: {pathList}\")\n",
    "\n",
    "    all_possible_grids = []\n",
    "    for path in pathList:\n",
    "        new_grids = swap_qubits(copy.deepcopy(grid), path)\n",
    "        for new_grid in new_grids:\n",
    "            all_possible_grids.append(new_grid)\n",
    "    return (grid, all_possible_grids, swaps+nt)\n"
   ]
  },
  {
   "attachments": {},
   "cell_type": "markdown",
   "metadata": {},
   "source": [
    "# Main Function"
   ]
  },
  {
   "cell_type": "code",
   "execution_count": 52,
   "metadata": {},
   "outputs": [
    {
     "name": "stdout",
     "output_type": "stream",
     "text": [
      "AdjMat:\n",
      "[0, 0.16783216783216784, 0.6]\n",
      "[0.39285714285714285, 0, 0.2658730158730158]\n",
      "[0.2, 0.625, 0]\n",
      "Priority: [2, 3, 1]\n"
     ]
    }
   ],
   "source": [
    "filename = input(\"Enter the filename: \")\n",
    "# filename = 'cnt3-5_180'\n",
    "with open(f'benchmarks/revlib_decomposed/{filename}.real', 'r') as f:\n",
    "    data = f.read()\n",
    "\n",
    "qubits = int(re.search(r\".numvars ([\\d]*)\", data).group(1))\n",
    "gates = re.search(r\"(?s)(?<=.begin).*?(?=.end)\", data, re.MULTILINE).group(0)\n",
    "lines = gates.strip().split('\\n')\n",
    "\n",
    "# print(qubits, lines)\n",
    "adj_mat = [[0]*qubits for _ in range(qubits)]\n",
    "counts = [0]*qubits\n",
    "interactions = []\n",
    "\n",
    "for t, line in enumerate(lines, 1):\n",
    "    params = line.split(' ')\n",
    "    if len(params) == 2: continue    \n",
    "    qubit1 = int(re.search(r\"\\d+\", params[1]).group(0))\n",
    "    qubit2 = int(re.search(r\"\\d+\", params[2]).group(0))\n",
    "    interactions.append((qubit1, qubit2))\n",
    "\n",
    "    adj_mat[qubit1-1][qubit2-1] += 1/t\n",
    "    counts[qubit1-1] += 1\n",
    "\n",
    "print('AdjMat:')\n",
    "for row in adj_mat: print(row)\n",
    "qubit_priority = []\n",
    "interaction_factor = lambda x: sum(adj_mat[x]) + sum(row[x] for row in adj_mat)\n",
    "possible_src = [i for i, count in enumerate(counts) if count == max(counts)]\n",
    "if len(possible_src) == 1:\n",
    "    qubit_priority.append(possible_src[0]+1)\n",
    "else:\n",
    "    qubit_priority.append(max(possible_src, key=interaction_factor)+1)\n",
    "\n",
    "while len(qubit_priority) < qubits:\n",
    "    last_qubit = qubit_priority[-1]\n",
    "    max_val, max_qubit = 0, 0\n",
    "    for i in range(qubits):\n",
    "        if i+1 in qubit_priority: continue\n",
    "        val = adj_mat[i][last_qubit-1] + adj_mat[last_qubit-1][i]\n",
    "        if val > max_val:\n",
    "            max_val, max_qubit = val, i+1\n",
    "        elif val == max_val:\n",
    "            if val == 0 or counts[i] > counts[max_qubit-1]:\n",
    "                max_qubit = i+1\n",
    "    qubit_priority.append(max_qubit)\n",
    "\n",
    "print('Priority:', qubit_priority)"
   ]
  },
  {
   "cell_type": "code",
   "execution_count": 53,
   "metadata": {},
   "outputs": [
    {
     "name": "stdout",
     "output_type": "stream",
     "text": [
      "Grid:\n",
      "[1, 0]\n",
      "[3, 2]\n",
      "Line 1: (1, 3)\n",
      "Leaves: 1\n",
      "Line 2: (3, 2)\n",
      "Leaves: 1\n",
      "Line 3: (2, 1)\n",
      "Leaves: 4\n",
      "Line 4: (3, 1)\n",
      "Leaves: 10\n",
      "Line 5: (3, 2)\n",
      "Leaves: 28\n",
      "Line 6: (2, 1)\n",
      "Leaves: 76\n",
      "Line 7: (3, 2)\n",
      "Leaves: 172\n",
      "Line 8: (2, 3)\n",
      "Leaves: 172\n",
      "Line 9: (1, 3)\n",
      "Leaves: 368\n",
      "Line 10: (1, 2)\n",
      "Leaves: 504\n",
      "Line 11: (2, 3)\n",
      "Leaves: 464\n",
      "Line 12: (1, 2)\n",
      "Leaves: 384\n",
      "Line 13: (2, 3)\n",
      "Leaves: 352\n"
     ]
    }
   ],
   "source": [
    "M, N = map(int, input(\"Enter the grid size: \").split())\n",
    "# M, N = 3, 6\n",
    "grid = place_qubits(qubit_priority, M, N, adj_mat)\n",
    "print('Grid:')\n",
    "for row in grid: print(row)\n",
    "\n",
    "# rearrange_grid(grid, 1, 5, 2)\n",
    "limit = int(input(\"Enter the limit: \"))\n",
    "# limit = 69\n",
    "leaves = [([], grid, 0)] # (parent, grids, swaps)\n",
    "for i, interaction in enumerate(interactions, 1):\n",
    "    print(f\"Line {i}: {interaction}\")\n",
    "    q1, q2 = interaction\n",
    "    current, excluded = [], []\n",
    "    for i in leaves:\n",
    "        if ManDist(find_qubit(q1, i[1]), find_qubit(q2, i[1])) > 0:\n",
    "            current.append(i)\n",
    "        else:\n",
    "            excluded.append(i)\n",
    "    new_leaves = []\n",
    "\n",
    "    for i in current:\n",
    "        parent, grid, swaps = i\n",
    "        new_parent, new_grids, new_swaps = rearrange_grid(grid, q1, q2, swaps)\n",
    "        new_leaves.extend([(parent+[new_parent], new_grid, new_swaps) for new_grid in new_grids if new_swaps <= limit])\n",
    "\n",
    "    leaves = excluded + new_leaves\n",
    "    print(f\"Leaves: {len(leaves)}\")"
   ]
  },
  {
   "cell_type": "code",
   "execution_count": 54,
   "metadata": {},
   "outputs": [
    {
     "name": "stdout",
     "output_type": "stream",
     "text": [
      "Minimum swaps: 4\n",
      "[1, 2]\n",
      "[0, 3]\n",
      "Parents: \n",
      "[1, 0]\n",
      "[3, 2]\n",
      "\n",
      "[3, 0]\n",
      "[1, 2]\n",
      "\n",
      "[0, 3]\n",
      "[1, 2]\n",
      "\n",
      "[1, 3]\n",
      "[0, 2]\n",
      "\n"
     ]
    }
   ],
   "source": [
    "# Find the minimum swaps from the current grids\n",
    "min_swaps = int(1e9)\n",
    "for i in leaves:\n",
    "    # print(i)\n",
    "    parent, grids, swaps = i\n",
    "    if swaps < min_swaps:\n",
    "        min_swaps = swaps\n",
    "        min_grid = grids\n",
    "        min_parent = parent\n",
    "\n",
    "print(f\"Minimum swaps: {min_swaps}\")\n",
    "for row in min_grid: print(row)\n",
    "\n",
    "print(\"Path: \")\n",
    "for parent in min_parent:\n",
    "    for row in parent: print(row)\n",
    "    print()"
   ]
  }
 ],
 "metadata": {
  "kernelspec": {
   "display_name": "Python 3",
   "language": "python",
   "name": "python3"
  },
  "language_info": {
   "codemirror_mode": {
    "name": "ipython",
    "version": 3
   },
   "file_extension": ".py",
   "mimetype": "text/x-python",
   "name": "python",
   "nbconvert_exporter": "python",
   "pygments_lexer": "ipython3",
   "version": "3.10.11"
  },
  "orig_nbformat": 4
 },
 "nbformat": 4,
 "nbformat_minor": 2
}
